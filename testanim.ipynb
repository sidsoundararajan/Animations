{
 "cells": [
  {
   "cell_type": "code",
   "execution_count": 1,
   "metadata": {},
   "outputs": [
    {
     "name": "stderr",
     "output_type": "stream",
     "text": [
      "/Library/Frameworks/Python.framework/Versions/3.13/lib/python3.13/site-packages/pydub/utils.py:170: RuntimeWarning: Couldn't find ffmpeg or avconv - defaulting to ffmpeg, but may not work\n",
      "  warn(\"Couldn't find ffmpeg or avconv - defaulting to ffmpeg, but may not work\", RuntimeWarning)\n"
     ]
    },
    {
     "name": "stdout",
     "output_type": "stream",
     "text": [
      "0.19.0\n"
     ]
    }
   ],
   "source": [
    "import manim as mn\n",
    "import numpy as np, scipy, matplotlib, sympy, math\n",
    "from manim import *\n",
    "from manim_slides import Slide\n",
    "\n",
    "config.media_width = \"75%\"\n",
    "config.verbosity = \"WARNING\"\n",
    "\n",
    "print(mn.__version__)"
   ]
  },
  {
   "cell_type": "code",
   "execution_count": null,
   "metadata": {},
   "outputs": [
    {
     "data": {
      "text/html": [
       "<pre style=\"white-space:pre;overflow-x:auto;line-height:normal;font-family:Menlo,'DejaVu Sans Mono',consolas,'Courier New',monospace\">Manim Community <span style=\"color: #008000; text-decoration-color: #008000\">v0.19.0</span>\n",
       "\n",
       "</pre>\n"
      ],
      "text/plain": [
       "Manim Community \u001b[32mv0.\u001b[0m\u001b[32m19.0\u001b[0m\n",
       "\n"
      ]
     },
     "metadata": {},
     "output_type": "display_data"
    },
    {
     "name": "stderr",
     "output_type": "stream",
     "text": [
      "                                                                                                  \r"
     ]
    },
    {
     "data": {
      "text/html": [
       "<video src=\"media/jupyter/Differentiation@2025-05-13@21-08-26.mp4\" controls autoplay loop style=\"max-width: 75%;\"  >\n",
       "      Your browser does not support the <code>video</code> element.\n",
       "    </video>"
      ],
      "text/plain": [
       "<IPython.core.display.Video object>"
      ]
     },
     "metadata": {},
     "output_type": "display_data"
    }
   ],
   "source": [
    "%%manim -qm Differentiation\n",
    "\n",
    "\n",
    "class Differentiation(MovingCameraScene):\n",
    "    def construct(self):\n",
    "\n",
    "        x_0 = ValueTracker(PI/4)\n",
    "        def fun(x):\n",
    "            return np.sin(x)\n",
    "\n",
    "        epsilon = ValueTracker(0.3)\n",
    "\n",
    "        axes = Axes(\n",
    "            x_range=[0, 5, 1],\n",
    "            y_range=[-1, 1.5, 1],\n",
    "            axis_config={\"color\": WHITE},\n",
    "        )\n",
    "        axes.x_axis_config = {\"include_ticks\":True}\n",
    "        axes.set_color(WHITE)\n",
    "        axes.add_coordinates()\n",
    "        axes_config = {\"font_size\" : 20}\n",
    "\n",
    "        formula = MathTex(r\"f(x) = \\sin(x)\" ,\n",
    "        substrings_to_isolate=[\"f\", \"x\", \"sin\"])\n",
    "        formula.set_color_by_tex(\"x\", RED_B)\n",
    "        formula.set_color_by_tex(\"f\", WHITE)\n",
    "        formula.set_color_by_tex(\"sin\", YELLOW)\n",
    "        formula.to_corner(UR)\n",
    "        \n",
    "\n",
    "        eps = MathTex(r\"h\", color=WHITE)\n",
    "        eps.next_to(formula, DOWN)\n",
    "\n",
    "        grapher = axes.plot(lambda t: fun(t), x_range=[0, 8], color=RED, stroke_width=3)\n",
    "\n",
    "        dot_a = Dot(color=YELLOW, radius=0.05)\n",
    "        dot_a.move_to(axes.c2p(x_0.get_value(), fun(x_0.get_value())))\n",
    "\n",
    "        \n",
    "        label_a = MathTex(r\"a\", color=RED)\n",
    "        label_a.next_to(dot_a, UP)\n",
    "\n",
    "        dot_b = always_redraw(lambda: Dot(color=YELLOW, radius=0.05).move_to(axes.c2p(x_0.get_value() + epsilon.get_value(), fun(x_0.get_value() + epsilon.get_value()))))\n",
    "\n",
    "        label_b = MathTex(r\"a + h\", color=WHITE, font_size=20)\n",
    "        label_b.next_to(dot_b, UP)\n",
    "\n",
    "        labels_x = VGroup(label_a, label_b)\n",
    "\n",
    "        h_line = always_redraw(lambda: DashedLine(\n",
    "            start=axes.c2p(x_0.get_value(), fun(x_0.get_value())),\n",
    "            end=axes.c2p(x_0.get_value() + epsilon.get_value(), fun(x_0.get_value())),\n",
    "            color=WHITE,\n",
    "            stroke_width=1,\n",
    "        )\n",
    "        )\n",
    "\n",
    "        h_line_label = MathTex(r\"h\", color=RED_A, font_size=20)\n",
    "        h_line_label.next_to(h_line, DOWN).shift(UP*0.1).scale(0.6)\n",
    "\n",
    "        v_line = always_redraw(lambda: DashedLine(\n",
    "            start=axes.c2p(x_0.get_value() + epsilon.get_value(), fun(x_0.get_value())),\n",
    "            end=axes.c2p(x_0.get_value() + epsilon.get_value(), fun(x_0.get_value() + epsilon.get_value())),\n",
    "            color=WHITE,\n",
    "            stroke_width=1,\n",
    "        )\n",
    "        )\n",
    "\n",
    "        v_label_a = MathTex(r\"f(a)\", color=WHITE, font_size=20)\n",
    "        v_label_a.next_to(axes.c2p(x_0.get_value() + epsilon.get_value(), fun(x_0.get_value())), RIGHT)\n",
    "\n",
    "        v_label_b = MathTex(r\"f(a + h)\", color=WHITE, font_size=20)\n",
    "        v_label_b.next_to(axes.c2p(x_0.get_value() + epsilon.get_value(), fun(x_0.get_value() + epsilon.get_value())), RIGHT)\n",
    "\n",
    "        labels_y = VGroup(v_label_a, v_label_b)\n",
    "\n",
    "        v_line_label = MathTex(r\"f(a + h) - f(a)\", color=WHITE, font_size=20)\n",
    "        v_line_label.next_to(v_line, RIGHT).scale(0.6).shift(LEFT*0.1)\n",
    "\n",
    "        t_line = always_redraw(lambda :  Line(start=axes.c2p(x_0.get_value(), fun(x_0.get_value())), end=axes.c2p(x_0.get_value() + epsilon.get_value(), fun(x_0.get_value() + epsilon.get_value())),color=TEAL,stroke_width=2).scale(8/epsilon.get_value()))\n",
    "\n",
    "        label_group = VGroup(h_line_label, v_line_label)\n",
    "\n",
    "        derivative = MathTex(r\"f'(a) = \\lim_{h \\to 0} \\frac{f(a + h) - f(a)}{h}\", color=WHITE, font_size=20)\n",
    "        substrings_to_isolate_2 = [\"f\", \"a\", \"h\", \"lim\"]\n",
    "        derivative.set_color_by_tex(\"f\", WHITE)\n",
    "        derivative.set_color_by_tex(\"a\", RED)\n",
    "        derivative.set_color_by_tex(\"h\", RED_A)\n",
    "        derivative.set_color_by_tex(\"lim\", WHITE)\n",
    "        derivative.to_corner(UL)\n",
    "\n",
    "        self.camera.frame.save_state()\n",
    "        self.add(axes) \n",
    "        self.play(Create(formula))\n",
    "        self.wait(2)\n",
    "        self.play(Create(grapher, run_time=2))\n",
    "        self.wait(3)\n",
    "        self.play(FadeIn(dot_a))\n",
    "        self.play(Create(label_a))\n",
    "        self.play(\n",
    "            self.camera.frame.animate.scale(0.3).move_to(axes.c2p(x_0.get_value(), fun(x_0.get_value()))),\n",
    "        )\n",
    "        self.play(label_a.animate.scale(0.4).next_to(dot_a, LEFT), FadeIn(dot_b), Create(label_b))\n",
    "        self.wait(2)\n",
    "        self.play(Create(h_line), Create(v_line))\n",
    "\n",
    "        self.play(label_a.animate.next_to(dot_a, DOWN)) \n",
    "        self.play(label_b.animate.next_to(axes.c2p(x_0.get_value() + epsilon.get_value(), fun(x_0.get_value())), DOWN))\n",
    "\n",
    "        self.play(Transform(labels_x, h_line_label))\n",
    "\n",
    "        self.wait(1)\n",
    "\n",
    "        self.play(Transform(labels_y, v_line_label))\n",
    "\n",
    "        self.wait(2)\n",
    "        self.play(Create(t_line), run_time = 1.5)\n",
    "\n",
    "\n",
    "        self.play(Restore(self.camera.frame))\n",
    "\n",
    "\n",
    "        self.play(Transform(label_group, derivative))\n",
    "\n",
    "        self.play(epsilon.animate.set_value(0.001), run_time=2)\n",
    "\n",
    "        \n",
    "    \n",
    "\n",
    "\n",
    "        self.wait(5)\n",
    "    \n",
    "        "
   ]
  },
  {
   "cell_type": "code",
   "execution_count": null,
   "metadata": {},
   "outputs": [],
   "source": []
  }
 ],
 "metadata": {
  "kernelspec": {
   "display_name": "Python 3",
   "language": "python",
   "name": "python3"
  },
  "language_info": {
   "codemirror_mode": {
    "name": "ipython",
    "version": 3
   },
   "file_extension": ".py",
   "mimetype": "text/x-python",
   "name": "python",
   "nbconvert_exporter": "python",
   "pygments_lexer": "ipython3",
   "version": "3.13.3"
  }
 },
 "nbformat": 4,
 "nbformat_minor": 2
}
